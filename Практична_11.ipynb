{
  "nbformat": 4,
  "nbformat_minor": 0,
  "metadata": {
    "colab": {
      "provenance": [],
      "authorship_tag": "ABX9TyP0FAIdUzZ4qczUmDpUqfjX",
      "include_colab_link": true
    },
    "kernelspec": {
      "name": "python3",
      "display_name": "Python 3"
    },
    "language_info": {
      "name": "python"
    }
  },
  "cells": [
    {
      "cell_type": "markdown",
      "metadata": {
        "id": "view-in-github",
        "colab_type": "text"
      },
      "source": [
        "<a href=\"https://colab.research.google.com/github/DeeDooc203/Numerical-methods/blob/main/%D0%9F%D1%80%D0%B0%D0%BA%D1%82%D0%B8%D1%87%D0%BD%D0%B0_11.ipynb\" target=\"_parent\"><img src=\"https://colab.research.google.com/assets/colab-badge.svg\" alt=\"Open In Colab\"/></a>"
      ]
    },
    {
      "cell_type": "code",
      "execution_count": 3,
      "metadata": {
        "colab": {
          "base_uri": "https://localhost:8080/"
        },
        "id": "5wLMgQeTnw4p",
        "outputId": "79e27bb8-d312-4750-c21c-033384490d9e"
      },
      "outputs": [
        {
          "output_type": "stream",
          "name": "stdout",
          "text": [
            "Метод прямокутників (ліві прямокутники): 0.524722\n",
            "Метод прямокутників (центральні прямокутники): 0.516699\n",
            "Метод прямокутників (праві прямокутники): 0.509044\n",
            "Метод Сімпсона: 0.516761\n",
            "Метод трапецій: 0.516791\n"
          ]
        }
      ],
      "source": [
        "import numpy as np\n",
        "from scipy import integrate\n",
        "\n",
        "# Функція, яку інтегруємо\n",
        "def integrand(x):\n",
        "    return 1 / np.sqrt(2*x + 1)\n",
        "\n",
        "# Метод прямокутників (ліві прямокутники)\n",
        "def rectangle_method_left(f, a, b, n):\n",
        "    h = (b - a) / n\n",
        "    x = np.linspace(a, b, n+1)\n",
        "    return h * np.sum(f(x[:-1]))\n",
        "\n",
        "# Метод прямокутників (центральні прямокутники)\n",
        "def rectangle_method_midpoint(f, a, b, n):\n",
        "    h = (b - a) / n\n",
        "    x = np.linspace(a + h/2, b - h/2, n)\n",
        "    return h * np.sum(f(x))\n",
        "\n",
        "# Метод прямокутників (праві прямокутники)\n",
        "def rectangle_method_right(f, a, b, n):\n",
        "    h = (b - a) / n\n",
        "    x = np.linspace(a, b, n+1)\n",
        "    return h * np.sum(f(x[1:]))\n",
        "\n",
        "# Метод Сімпсона\n",
        "def simpson_method(f, a, b, n):\n",
        "    x = np.linspace(a, b, n+1)\n",
        "    h = (b - a) / n\n",
        "    return h / 3 * np.sum(f(x[0:-1:2]) + 4*f(x[1::2]) + f(x[2::2]))\n",
        "\n",
        "# Метод трапецій\n",
        "def trapezoidal_method(f, a, b, n):\n",
        "    h = (b - a) / n\n",
        "    x = np.linspace(a, b, n+1)\n",
        "    return h / 2 * (f(x[0]) + 2*np.sum(f(x[1:-1])) + f(x[-1]))\n",
        "\n",
        "# Визначені інтервали\n",
        "a = 0.6\n",
        "b = 1.5\n",
        "\n",
        "# Кількість підінтервалів для методу прямокутників (параметр p)\n",
        "p_rectangle = 10\n",
        "\n",
        "# Кількість підінтервалів для методу Сімпсона (параметр p)\n",
        "p_simpson = 8\n",
        "\n",
        "# Кількість підінтервалів для методу трапецій (параметр p)\n",
        "p_trapezoidal = 20\n",
        "\n",
        "# Обчислення інтегралів за допомогою вказаних методів\n",
        "result_rectangle_left = rectangle_method_left(integrand, a, b, p_rectangle)\n",
        "result_rectangle_midpoint = rectangle_method_midpoint(integrand, a, b, p_rectangle)\n",
        "result_rectangle_right = rectangle_method_right(integrand, a, b, p_rectangle)\n",
        "\n",
        "result_simpson = simpson_method(integrand, a, b, p_simpson)\n",
        "\n",
        "result_trapezoidal = trapezoidal_method(integrand, a, b, p_trapezoidal)\n",
        "\n",
        "# Виведення результатів\n",
        "print(f\"Метод прямокутників (ліві прямокутники): {result_rectangle_left:.6f}\")\n",
        "print(f\"Метод прямокутників (центральні прямокутники): {result_rectangle_midpoint:.6f}\")\n",
        "print(f\"Метод прямокутників (праві прямокутники): {result_rectangle_right:.6f}\")\n",
        "print(f\"Метод Сімпсона: {result_simpson:.6f}\")\n",
        "print(f\"Метод трапецій: {result_trapezoidal:.6f}\")\n",
        "\n"
      ]
    },
    {
      "cell_type": "code",
      "source": [
        "import numpy as np\n",
        "from scipy import integrate\n",
        "\n",
        "# Функція, яку інтегруємо\n",
        "def integrand(x):\n",
        "    return np.tan(x**2 + 0.5) / (1 + 2*x**2)\n",
        "\n",
        "# Метод прямокутників (ліві прямокутники)\n",
        "def rectangle_method_left(f, a, b, n):\n",
        "    h = (b - a) / n\n",
        "    x = np.linspace(a, b, n+1)\n",
        "    return h * np.sum(f(x[:-1]))\n",
        "\n",
        "# Метод прямокутників (центральні прямокутники)\n",
        "def rectangle_method_midpoint(f, a, b, n):\n",
        "    h = (b - a) / n\n",
        "    x = np.linspace(a + h/2, b - h/2, n)\n",
        "    return h * np.sum(f(x))\n",
        "\n",
        "# Метод прямокутників (праві прямокутники)\n",
        "def rectangle_method_right(f, a, b, n):\n",
        "    h = (b - a) / n\n",
        "    x = np.linspace(a, b, n+1)\n",
        "    return h * np.sum(f(x[1:]))\n",
        "\n",
        "# Метод Сімпсона\n",
        "def simpson_method(f, a, b, n):\n",
        "    x = np.linspace(a, b, n+1)\n",
        "    h = (b - a) / n\n",
        "    return h / 3 * np.sum(f(x[0:-1:2]) + 4*f(x[1::2]) + f(x[2::2]))\n",
        "\n",
        "# Метод трапецій\n",
        "def trapezoidal_method(f, a, b, n):\n",
        "    h = (b - a) / n\n",
        "    x = np.linspace(a, b, n+1)\n",
        "    return h / 2 * (f(x[0]) + 2*np.sum(f(x[1:-1])) + f(x[-1]))\n",
        "\n",
        "# Визначені інтервали\n",
        "a = 0.4\n",
        "b = 0.8\n",
        "\n",
        "# Кількість підінтервалів для методу прямокутників (параметр p)\n",
        "p_rectangle = 10\n",
        "\n",
        "# Кількість підінтервалів для методу Сімпсона (параметр p)\n",
        "p_simpson = 8\n",
        "\n",
        "# Кількість підінтервалів для методу трапецій (параметр p)\n",
        "p_trapezoidal = 20\n",
        "\n",
        "# Обчислення інтегралів за допомогою вказаних методів\n",
        "result_rectangle_left = rectangle_method_left(integrand, a, b, p_rectangle)\n",
        "result_rectangle_midpoint = rectangle_method_midpoint(integrand, a, b, p_rectangle)\n",
        "result_rectangle_right = rectangle_method_right(integrand, a, b, p_rectangle)\n",
        "\n",
        "result_simpson = simpson_method(integrand, a, b, p_simpson)\n",
        "\n",
        "result_trapezoidal = trapezoidal_method(integrand, a, b, p_trapezoidal)\n",
        "\n",
        "# Виведення результатів\n",
        "print(f\"Метод прямокутників (ліві прямокутники): {result_rectangle_left:.6f}\")\n",
        "print(f\"Метод прямокутників (центральні прямокутники): {result_rectangle_midpoint:.6f}\")\n",
        "print(f\"Метод прямокутників (праві прямокутники): {result_rectangle_right:.6f}\")\n",
        "print(f\"Метод Сімпсона: {result_simpson:.6f}\")\n",
        "print(f\"Метод трапецій: {result_trapezoidal:.6f}\")\n"
      ],
      "metadata": {
        "colab": {
          "base_uri": "https://localhost:8080/"
        },
        "id": "vVS8pthMn2Eb",
        "outputId": "b9458f07-4a0a-4049-acac-695f3a962246"
      },
      "execution_count": 2,
      "outputs": [
        {
          "output_type": "stream",
          "name": "stdout",
          "text": [
            "Метод прямокутників (ліві прямокутники): 0.274718\n",
            "Метод прямокутників (центральні прямокутники): 0.281562\n",
            "Метод прямокутників (праві прямокутники): 0.289373\n",
            "Метод Сімпсона: 0.281732\n",
            "Метод трапецій: 0.281804\n"
          ]
        }
      ]
    },
    {
      "cell_type": "code",
      "source": [
        "import numpy as np\n",
        "from scipy import integrate\n",
        "\n",
        "# Функція, яку інтегруємо\n",
        "def integrand(x):\n",
        "    return x / (np.sqrt(2*x**2) + 0.3)\n",
        "\n",
        "# Метод прямокутників (ліві прямокутники)\n",
        "def rectangle_method_left(f, a, b, n):\n",
        "    h = (b - a) / n\n",
        "    x = np.linspace(a, b, n+1)\n",
        "    return h * np.sum(f(x[:-1]))\n",
        "\n",
        "# Метод прямокутників (центральні прямокутники)\n",
        "def rectangle_method_midpoint(f, a, b, n):\n",
        "    h = (b - a) / n\n",
        "    x = np.linspace(a + h/2, b - h/2, n)\n",
        "    return h * np.sum(f(x))\n",
        "\n",
        "# Метод прямокутників (праві прямокутники)\n",
        "def rectangle_method_right(f, a, b, n):\n",
        "    h = (b - a) / n\n",
        "    x = np.linspace(a, b, n+1)\n",
        "    return h * np.sum(f(x[1:]))\n",
        "\n",
        "# Метод Сімпсона\n",
        "def simpson_method(f, a, b, n):\n",
        "    x = np.linspace(a, b, n+1)\n",
        "    h = (b - a) / n\n",
        "    return h / 3 * np.sum(f(x[0:-1:2]) + 4*f(x[1::2]) + f(x[2::2]))\n",
        "\n",
        "# Метод трапецій\n",
        "def trapezoidal_method(f, a, b, n):\n",
        "    h = (b - a) / n\n",
        "    x = np.linspace(a, b, n+1)\n",
        "    return h / 2 * (f(x[0]) + 2*np.sum(f(x[1:-1])) + f(x[-1]))\n",
        "\n",
        "# Визначені інтервали\n",
        "a = 0.8\n",
        "b = 1.7\n",
        "\n",
        "# Кількість підінтервалів для методу прямокутників (параметр p)\n",
        "p_rectangle = 10\n",
        "\n",
        "# Кількість підінтервалів для методу Сімпсона (параметр p)\n",
        "p_simpson = 8\n",
        "\n",
        "# Кількість підінтервалів для методу трапецій (параметр p)\n",
        "p_trapezoidal = 20\n",
        "\n",
        "# Обчислення інтегралів за допомогою вказаних методів\n",
        "result_rectangle_left = rectangle_method_left(integrand, a, b, p_rectangle)\n",
        "result_rectangle_midpoint = rectangle_method_midpoint(integrand, a, b, p_rectangle)\n",
        "result_rectangle_right = rectangle_method_right(integrand, a, b, p_rectangle)\n",
        "\n",
        "result_simpson = simpson_method(integrand, a, b, p_simpson)\n",
        "\n",
        "result_trapezoidal = trapezoidal_method(integrand, a, b, p_trapezoidal)\n",
        "\n",
        "# Виведення результатів\n",
        "print(f\"Метод прямокутників (ліві прямокутники): {result_rectangle_left:.6f}\")\n",
        "print(f\"Метод прямокутників (центральні прямокутники): {result_rectangle_midpoint:.6f}\")\n",
        "print(f\"Метод прямокутників (праві прямокутники): {result_rectangle_right:.6f}\")\n",
        "print(f\"Метод Сімпсона: {result_simpson:.6f}\")\n",
        "print(f\"Метод трапецій: {result_trapezoidal:.6f}\")\n"
      ],
      "metadata": {
        "colab": {
          "base_uri": "https://localhost:8080/"
        },
        "id": "cJs4hrlAn7XU",
        "outputId": "e1574566-4638-4870-cdd6-680b99948eb8"
      },
      "execution_count": 1,
      "outputs": [
        {
          "output_type": "stream",
          "name": "stdout",
          "text": [
            "Метод прямокутників (ліві прямокутники): 0.537762\n",
            "Метод прямокутників (центральні прямокутники): 0.541008\n",
            "Метод прямокутників (праві прямокутники): 0.544040\n",
            "Метод Сімпсона: 0.540971\n",
            "Метод трапецій: 0.540954\n"
          ]
        }
      ]
    }
  ]
}