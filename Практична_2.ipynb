{
  "nbformat": 4,
  "nbformat_minor": 0,
  "metadata": {
    "colab": {
      "provenance": [],
      "authorship_tag": "ABX9TyMo3BjE2PS/WQE0JjBzjvJH",
      "include_colab_link": true
    },
    "kernelspec": {
      "name": "python3",
      "display_name": "Python 3"
    },
    "language_info": {
      "name": "python"
    }
  },
  "cells": [
    {
      "cell_type": "markdown",
      "metadata": {
        "id": "view-in-github",
        "colab_type": "text"
      },
      "source": [
        "<a href=\"https://colab.research.google.com/github/DeeDooc203/Numerical-methods/blob/main/%D0%9F%D1%80%D0%B0%D0%BA%D1%82%D0%B8%D1%87%D0%BD%D0%B0_2.ipynb\" target=\"_parent\"><img src=\"https://colab.research.google.com/assets/colab-badge.svg\" alt=\"Open In Colab\"/></a>"
      ]
    },
    {
      "cell_type": "code",
      "execution_count": 1,
      "metadata": {
        "colab": {
          "base_uri": "https://localhost:8080/"
        },
        "id": "LTYCbxcCg8DW",
        "outputId": "6c656c85-13f4-48f7-b62d-3952b37db401"
      },
      "outputs": [
        {
          "output_type": "stream",
          "name": "stdout",
          "text": [
            "Отримані відрізки: [(0, 1), (4, 5)]\n",
            "Рішення нелінійного рівняння на відрізку [-3, -2]\n",
            "x =  -2.00003  - Метод половинного ділення\n",
            "x =  0.06481  - Метод хорд\n",
            "Рішення нелінійного рівняння на відрізку [0, 1]\n",
            "x =  0.06479  - Метод половинного ділення\n",
            "x =  0.06481  - Метод хорд\n"
          ]
        }
      ],
      "source": [
        "import numpy as np\n",
        "\n",
        "eps = 0.0001\n",
        "\n",
        "def f(x):\n",
        "    return pow(x, 4) - 108 * x + 7\n",
        "\n",
        "# Відокремлення коренів (знаходимо відрізки)\n",
        "def find_segments():\n",
        "    search_range = np.arange(-10, 10, 1)\n",
        "\n",
        "    previous_x = None\n",
        "    current_x = None\n",
        "    segments = []\n",
        "\n",
        "    for x in search_range:\n",
        "        x = round(x, 4)\n",
        "        current_x = f(x)\n",
        "        if previous_x != None and (previous_x * current_x) < 0:\n",
        "            segments.append((n, x))\n",
        "        n = x\n",
        "        previous_x = current_x\n",
        "    return segments\n",
        "\n",
        "segments = find_segments()\n",
        "print(f'Отримані відрізки: {segments}')\n",
        "\n",
        "# Метод половинного ділення\n",
        "def half_division(a, b, eps):\n",
        "    while (abs(a - b) >= eps):\n",
        "        if f(a) * f((a + b) / 2) < 0:\n",
        "            b = (a + b) / 2\n",
        "        else:\n",
        "            a = (a + b) / 2\n",
        "        x = (a + b) / 2\n",
        "\n",
        "    print('x = ', round(x, 5), ' - Метод половинного ділення')\n",
        "\n",
        "# Метод хорд\n",
        "def сhord(a, b, eps):\n",
        "    x0 = a\n",
        "    x = a - f(a) * (b - a) / (f(b) - f(a))\n",
        "\n",
        "    if (f(a) * f(x) > 0):\n",
        "        a = x\n",
        "    else:\n",
        "        b = x\n",
        "\n",
        "    while (abs(x0 - x) > eps):\n",
        "        x0 = x\n",
        "        x = a - f(a) * (b - a) / (f(b) - f(a))\n",
        "        if (f(a) * f(x) > 0):\n",
        "            a = x\n",
        "        else:\n",
        "            b = x\n",
        "\n",
        "    print('x = ', round(x, 5), ' - Метод хорд')\n",
        "\n",
        "# Виведення результатів\n",
        "a = -3\n",
        "b = -2\n",
        "a1 = 0\n",
        "b1 = 1\n",
        "\n",
        "print(f'Рішення нелінійного рівняння на відрізку [{a}, {b}]')\n",
        "half_division(a, b, eps)\n",
        "сhord(a, b, eps)\n",
        "\n",
        "print(f'Рішення нелінійного рівняння на відрізку [{a1}, {b1}]')\n",
        "half_division(a1, b1, eps)\n",
        "сhord(a1, b1, eps)\n"
      ]
    }
  ]
}